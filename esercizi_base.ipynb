{
  "nbformat": 4,
  "nbformat_minor": 0,
  "metadata": {
    "colab": {
      "provenance": [],
      "include_colab_link": true
    },
    "kernelspec": {
      "name": "python3",
      "display_name": "Python 3"
    },
    "language_info": {
      "name": "python"
    }
  },
  "cells": [
    {
      "cell_type": "markdown",
      "metadata": {
        "id": "view-in-github",
        "colab_type": "text"
      },
      "source": [
        "<a href=\"https://colab.research.google.com/github/ValerioJiang/Sestante_Python_base01/blob/main/esercizi_base.ipynb\" target=\"_parent\"><img src=\"https://colab.research.google.com/assets/colab-badge.svg\" alt=\"Open In Colab\"/></a>"
      ]
    },
    {
      "cell_type": "markdown",
      "source": [
        "#Esercizi Python\n",
        "\n",
        "Fai una copia di questo quaderno. Rinomina il file col tuo nome e cognome,salvalo sull'area pubblica, clicca nuovamente su File -> Salva (CTRL+S) ogni volta che completi un esercizio così lo posso vedere anche io.\n",
        "\n",
        "Il file si trova sulla share del corso, /materiali_fabio_montini/fabio_esercizi/\n",
        "\n",
        "Salvare in /materiali_fabio_montini/fabio_esercizi/svolgimento\n",
        "\n",
        "Per lo svolgimento è consigliabile utilizzare la dispensa, il quaderno degli esercizi sulle liste ed eventualmente la slide presenti sul Google Drive condiviso.\n",
        "\n",
        "\n"
      ],
      "metadata": {
        "id": "tmRkdk-OvN4B"
      }
    },
    {
      "cell_type": "markdown",
      "source": [
        "## Esercizi con matematica e formule (semplici)\n",
        "Questi esercizi si risolvono con l'impiego di formule e l'uso di predicati di valutazione. Lo scopo di questi esercizi è nella loro semplicità, per consentire di allenarsi a creare codice, utilizzare correttamente la sintassi, utilizzare correttamente le variabili, le assegnazioni e concepire predicati di valutazione logicamente corretti."
      ],
      "metadata": {
        "id": "T_VXcQF5wY3E"
      }
    },
    {
      "cell_type": "markdown",
      "source": [
        "##Esercizio 1\n",
        "Acquisire da tastiera due numeri reali, stampare a video il maggiore dei due.\n",
        "\n",
        "##Esercizio 1 bis\n",
        "Modificare il codice (possibilmente per aggiunta), affinché i due numeri vengano inseriti in due variabili. Scambiare i valori dentro le variabili se il primo è inferiore al secondo."
      ],
      "metadata": {
        "id": "CegBv-5IxdkR"
      }
    },
    {
      "cell_type": "code",
      "source": [
        "\n"
      ],
      "metadata": {
        "colab": {
          "base_uri": "https://localhost:8080/"
        },
        "id": "vOnlF5wlik1w",
        "outputId": "a1f58e32-5b87-4604-dbf1-999ca149b491"
      },
      "execution_count": null,
      "outputs": [
        {
          "output_type": "stream",
          "name": "stdout",
          "text": [
            "Inserire un numero: 20\n",
            "Inserire un altro numero: 4\n",
            "20.0\n"
          ]
        }
      ]
    },
    {
      "cell_type": "code",
      "source": [],
      "metadata": {
        "colab": {
          "base_uri": "https://localhost:8080/"
        },
        "id": "-Vz4n3aIjLKh",
        "outputId": "562c1ad0-06a1-428e-ea7b-fbda72f5053e"
      },
      "execution_count": null,
      "outputs": [
        {
          "output_type": "stream",
          "name": "stdout",
          "text": [
            "Inserire un numero: 25.2\n",
            "Inserire un altro numero: 23.1\n",
            "<class 'str'>\n",
            "25.2\n"
          ]
        }
      ]
    },
    {
      "cell_type": "markdown",
      "source": [
        "## Esercizio 2\n",
        "\n",
        "Acquisire da tastiera tre numeri reali, stampare a video il maggiore dei tre."
      ],
      "metadata": {
        "id": "pEaKwz9Fxq_Y"
      }
    },
    {
      "cell_type": "code",
      "source": [
        "\n"
      ],
      "metadata": {
        "colab": {
          "base_uri": "https://localhost:8080/"
        },
        "id": "_Uz6pZn0yXz1",
        "outputId": "e8961413-461f-4753-9cbd-16bd16503872"
      },
      "execution_count": null,
      "outputs": [
        {
          "output_type": "stream",
          "name": "stdout",
          "text": [
            "Primo numero:5\n",
            "Secondo numero:2\n",
            "Terzo numero:8\n",
            "8.0\n"
          ]
        }
      ]
    },
    {
      "cell_type": "code",
      "source": [
        "\n"
      ],
      "metadata": {
        "id": "e1yToYEGzx-H"
      },
      "execution_count": null,
      "outputs": []
    },
    {
      "cell_type": "markdown",
      "source": [
        "##Esercizio 3\n",
        "Inserire tre numeri reali. Controllare l'input e verificare che i numeri inseriti siano possibili lati di un triangolo.\n",
        "\n",
        "**HINT: per essere lati di un triangolo il lato maggiore deve essere di lunghezza inferire alla somma degli altri due**"
      ],
      "metadata": {
        "id": "ii5G9sxfw9Hh"
      }
    },
    {
      "cell_type": "markdown",
      "source": [
        "## Esercizio 4\n",
        "Inserire da tastiera tre numeri reali, stampare a video i tre numeri in ordine crescente.\n",
        "\n",
        "## Esercizio 4 bis\n",
        "Modificare il codice per stampare i numeri anche in ordine decrescente."
      ],
      "metadata": {
        "id": "1YI-WDtxEqWO"
      }
    },
    {
      "cell_type": "code",
      "source": [],
      "metadata": {
        "colab": {
          "base_uri": "https://localhost:8080/"
        },
        "id": "xHo8Ruf-zZ1J",
        "outputId": "0df3332d-cbf2-4385-dffb-41751c5a715a"
      },
      "execution_count": null,
      "outputs": [
        {
          "output_type": "stream",
          "name": "stdout",
          "text": [
            "Primo numero:21\n",
            "Secondo numero:33\n",
            "Terzo numero:12\n",
            "12.0\n",
            "21.0\n",
            "33.0\n"
          ]
        }
      ]
    },
    {
      "cell_type": "code",
      "source": [],
      "metadata": {
        "id": "IYxzQ6Ft2Ym8"
      },
      "execution_count": null,
      "outputs": []
    },
    {
      "cell_type": "code",
      "source": [],
      "metadata": {
        "colab": {
          "base_uri": "https://localhost:8080/"
        },
        "id": "NFxRLFXB2y2a",
        "outputId": "8883032c-8f42-4d1f-80d9-cd2c46059b59"
      },
      "execution_count": null,
      "outputs": [
        {
          "output_type": "stream",
          "name": "stdout",
          "text": [
            "Inserire primo numero: 21\n",
            "Inserire secondo numero: 33\n",
            "Inserire terzo numero: 12\n",
            "33.0\n",
            "21.0\n",
            "12.0\n"
          ]
        }
      ]
    },
    {
      "cell_type": "markdown",
      "source": [
        "#Esercizi con matematica e cicli\n",
        "Questi esercizi introducono la necessità di ricorrere a flussi un po' più complessi, l'utilizzo basilare delle liste, sempre tramite l'utilizzo di semplici formule matematiche e semplici predicati di valutazione lo scopo è imparare a formulare un codice leggermente più articolato."
      ],
      "metadata": {
        "id": "ktoSjCGPFDlM"
      }
    },
    {
      "cell_type": "markdown",
      "source": [
        "## Esercizio 5\n",
        "\n",
        "Acquisire da tastiera un numero _n_ specificando che è necessario un numero positivo e verificando che non sia negativo. Se negativo deve essere prima notificato l'errore e poi ripetuto l'inserimento.\n",
        "Poi acquisire da tastiera _n_ numeri reali, al termine dell'acquisizione presentare la sommatoria."
      ],
      "metadata": {
        "id": "VNowpCwZwgT5"
      }
    },
    {
      "cell_type": "code",
      "source": [],
      "metadata": {
        "colab": {
          "base_uri": "https://localhost:8080/"
        },
        "id": "84rdPQo36H5_",
        "outputId": "77317184-dc4a-4a6c-c98a-bb4bb02438c4"
      },
      "execution_count": null,
      "outputs": [
        {
          "output_type": "stream",
          "name": "stdout",
          "text": [
            "Inserire n (n>0):12\n",
            "Inserire un numero da sommare: 1\n",
            "Inserire un numero da sommare: 1\n",
            "Inserire un numero da sommare: 1\n",
            "Inserire un numero da sommare: 1\n",
            "Inserire un numero da sommare: 1\n",
            "Inserire un numero da sommare: 2\n",
            "Inserire un numero da sommare: 2\n",
            "Inserire un numero da sommare: 2\n",
            "Inserire un numero da sommare: 2\n",
            "Inserire un numero da sommare: 2\n",
            "Inserire un numero da sommare: 3\n",
            "Inserire un numero da sommare: 3\n",
            "21.0\n"
          ]
        }
      ]
    },
    {
      "cell_type": "code",
      "source": [
        "\n"
      ],
      "metadata": {
        "colab": {
          "base_uri": "https://localhost:8080/"
        },
        "id": "fxkAdk9h2QeZ",
        "outputId": "4eecec84-3925-4949-e7f2-b81716f1c3aa"
      },
      "execution_count": null,
      "outputs": [
        {
          "output_type": "stream",
          "name": "stdout",
          "text": [
            "Questa viene eseguita se a è False\n"
          ]
        }
      ]
    },
    {
      "cell_type": "code",
      "source": [
        "print(range(9))"
      ],
      "metadata": {
        "colab": {
          "base_uri": "https://localhost:8080/"
        },
        "id": "ASDE0Ptg_R-7",
        "outputId": "f964c7a9-5a61-4aad-a7a6-483cbcdd0b48"
      },
      "execution_count": null,
      "outputs": [
        {
          "output_type": "stream",
          "name": "stdout",
          "text": [
            "range(0, 9)\n"
          ]
        }
      ]
    },
    {
      "cell_type": "markdown",
      "source": [
        "## Esercizio 6\n",
        "Acquisire da tastiera una serie di numeri (come all'esercizio 5). Individuare il maggiore dei numeri inseriti.\n",
        "\n",
        "## Esercizio 6 bis\n",
        "Modificare il programma per individuare il minore dei numeri inseriti."
      ],
      "metadata": {
        "id": "jSCi1kdnGN-Y"
      }
    },
    {
      "cell_type": "code",
      "source": [],
      "metadata": {
        "colab": {
          "base_uri": "https://localhost:8080/"
        },
        "id": "fbW213pO4QxI",
        "outputId": "ce84b2fd-9eb1-4417-d84e-66c82bb02c9e"
      },
      "execution_count": null,
      "outputs": [
        {
          "output_type": "stream",
          "name": "stdout",
          "text": [
            "Inserire il numero di valori da confrontare (n>0):7\n",
            "Inserire un valore:23\n",
            "Inserire un valore:56\n",
            "Inserire un valore:44\n",
            "Inserire un valore:32\n",
            "Inserire un valore:2\n",
            "Inserire un valore:6\n",
            "Inserire un valore:87\n",
            "Il valore maggiore inserito è:  2.0\n"
          ]
        }
      ]
    },
    {
      "cell_type": "markdown",
      "source": [
        "##Esercizio 7\n",
        "Ripetere l'esercizio 5, però anziché chiedere prima il numero di valori da inserire impostare il programma affinché consenta l'inserimento di un numero indefinito di valori. Per terminare l'immissione verrà richiesto di immettere 0."
      ],
      "metadata": {
        "id": "Xndjy8cGGc8X"
      }
    },
    {
      "cell_type": "code",
      "source": [
        "\n",
        "\n"
      ],
      "metadata": {
        "colab": {
          "base_uri": "https://localhost:8080/"
        },
        "id": "QlM7-Atw8CZD",
        "outputId": "50db6f6e-f4ef-4b58-b0d1-e5e598d8e12e"
      },
      "execution_count": null,
      "outputs": [
        {
          "output_type": "stream",
          "name": "stdout",
          "text": [
            "Inserire un numero: 23\n",
            "Inserire un numero: 67\n",
            "Inserire un numero: 23.1\n",
            "Inserire un numero: 23.3\n",
            "Inserire un numero: 12.666\n",
            "Inserire un numero: 23.101111\n",
            "Inserire un numero: 90\n",
            "Inserire un numero: 0\n",
            "La sommatoria è:  262.167111\n"
          ]
        }
      ]
    },
    {
      "cell_type": "markdown",
      "source": [
        "##Esercizio 8\n",
        "Riformulare gli esercizi 5,6 e 7 affinché l'utente possa immettere una sequenza indefinita di numeri, fermandosi all'immissione del valore 0. Il programma dovrà restituire, somma, media, minimo e massimo inserito.\n",
        "\n",
        "Il valore di questo esercizio è nel cercare di formulare il programma nella maniera più concisa possibile."
      ],
      "metadata": {
        "id": "vTVnD86mG4u2"
      }
    },
    {
      "cell_type": "code",
      "source": [],
      "metadata": {
        "colab": {
          "base_uri": "https://localhost:8080/"
        },
        "id": "QAw7DR7l9Ua7",
        "outputId": "fb35b434-940e-4f9b-b9ea-9fa546db2d3c"
      },
      "execution_count": null,
      "outputs": [
        {
          "output_type": "stream",
          "name": "stdout",
          "text": [
            "Inserire un numero: 0\n",
            "La sommatoria è:  0\n",
            "La media è:  0\n",
            "Il minimo è:  32768\n",
            "Il massimo è:  -32767\n"
          ]
        }
      ]
    },
    {
      "cell_type": "markdown",
      "source": [
        "# Esercizi che richiedono di pensare l'algoritmo\n",
        "\n",
        "Questi esercizi, pur mantenendo un livello di semplicità di formule e procedimenti, richiedono di pensare l'algoritmo prima di essere svolti.\n",
        "\n",
        "Alcuni di questi sono i cosiddetti \"algoritmi classici\" come ad esempio il controllo di immissione, il massimo comune divisore col metodo di Euclide, l'ordinamento ingenuo ecc."
      ],
      "metadata": {
        "id": "PBqUPWzLIVhb"
      }
    },
    {
      "cell_type": "markdown",
      "source": [
        "##Esercizio 9\n",
        "\n",
        "La serie di Fibonacci è una serie di numeri in cui il numero attuale è ottenuto sommando i due numeri precedenti. La sequenza parte con il numero 1 ripetuto due volte, poi procede sommando i due precedenti ottenendo 2, poi 3 ecc.\n",
        "\n",
        "Quindi un esempio di sequenza di Fibonacci è:\n",
        "\n",
        "```\n",
        "1 1 2 3 5 8 13 21 ... ecc.\n",
        "```\n",
        "\n",
        "Il programma dovrà chiedere all'utente quanti numeri di Fibonacci generare e poi stampare a video la sequenza."
      ],
      "metadata": {
        "id": "4wmBJ8zVIwBY"
      }
    },
    {
      "cell_type": "code",
      "source": [],
      "metadata": {
        "colab": {
          "base_uri": "https://localhost:8080/"
        },
        "id": "8F-NSN4o_jTJ",
        "outputId": "a52e0dd0-338d-42c4-e71e-f00349c3b3d1"
      },
      "execution_count": null,
      "outputs": [
        {
          "output_type": "stream",
          "name": "stdout",
          "text": [
            "Quanti numeri di Fibonacci vogliamo calcolare? 1\n",
            "1\n",
            "1\n",
            "2\n"
          ]
        }
      ]
    },
    {
      "cell_type": "code",
      "source": [
        "\n"
      ],
      "metadata": {
        "colab": {
          "base_uri": "https://localhost:8080/"
        },
        "id": "lVwO3BTMBNVM",
        "outputId": "4e539330-9b89-48d6-93b6-b23a319f7110"
      },
      "execution_count": null,
      "outputs": [
        {
          "output_type": "stream",
          "name": "stdout",
          "text": [
            "Quanti numeri di Fibonacci vogliamo calcolare? 1\n",
            "1\n",
            "1\n"
          ]
        }
      ]
    },
    {
      "cell_type": "code",
      "source": [],
      "metadata": {
        "colab": {
          "base_uri": "https://localhost:8080/"
        },
        "id": "rv7Y9xT5CznB",
        "outputId": "22647f68-e9c8-4846-c37d-4ea935027fb1"
      },
      "execution_count": null,
      "outputs": [
        {
          "output_type": "stream",
          "name": "stdout",
          "text": [
            "Quanti numeri di Fibonacci vogliamo calcolare? 34\n",
            "1\n",
            "1\n",
            "2\n",
            "3\n",
            "5\n",
            "8\n",
            "13\n",
            "21\n",
            "34\n",
            "55\n",
            "89\n",
            "144\n",
            "233\n",
            "377\n",
            "610\n",
            "987\n",
            "1597\n",
            "2584\n",
            "4181\n",
            "6765\n",
            "10946\n",
            "17711\n",
            "28657\n",
            "46368\n",
            "75025\n",
            "121393\n",
            "196418\n",
            "317811\n",
            "514229\n",
            "832040\n",
            "1346269\n",
            "2178309\n",
            "3524578\n",
            "5702887\n",
            "[1, 1, 2, 3, 5, 8, 13, 21, 34, 55, 89, 144, 233, 377, 610, 987, 1597, 2584, 4181, 6765, 10946, 17711, 28657, 46368, 75025, 121393, 196418, 317811, 514229, 832040, 1346269, 2178309, 3524578, 5702887]\n"
          ]
        }
      ]
    },
    {
      "cell_type": "markdown",
      "source": [
        "##Esercizio 10\n",
        "**L'algoritmo di Euclide.**\n",
        "Questo esercizio è un classico dei classici: si tratta di implementare il metodo di Euclide per individuare il massimo comune divisore tra due numeri interi.\n",
        "\n",
        "Il procedimento è il seguente:\n",
        "\n",
        "dati due numeri interi _a_ e _b_, posto _a_ > _b_, se _b_ è divisore esatto di _a_ il resto della divisione intera tra _a_ e _b_ è pari a 0. In questo caso abbiamo trovato il massimo comune divisore.\n",
        "Se invece il resto _r_ è diverso da 0, il MCD tra _a_ e _b_ è uguale al MCD tra _b_ ed _r_.\n",
        "\n",
        "![image.png](data:image/png;base64,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)\n",
        "\n",
        "Questo algoritmo può essere implementato in vari modi, cercare di codificare l'algoritmo in base alle proprie conoscenze (limitate) del linguaggio."
      ],
      "metadata": {
        "id": "HVg2PaO5KW6g"
      }
    },
    {
      "cell_type": "markdown",
      "source": [
        "##Esercizio 11\n",
        "**Ordinamento ingenuo.**\n",
        "L'ordinamento ingenuo è un altro grande classico. Il programma partirà da una lista di valori numerici, che per praticità può essere inserita nel codice sotto forma di costante esplicita per focalizzare l'esercizio sull'algoritmo e non sull'input.\n",
        "\n",
        "L'ordinamento ingenuo consiste nel confrontare gli elementi della lista a due a due, partendo dal primo col secondo, primo con terzo ecc. poi secondo con terzo, secondo con quarto ecc.\n",
        "\n",
        "Qualora il primo sia maggiore del secondo in confronto i valori devono essere invertiti.\n",
        "\n",
        "Quando il penultimo sarà stato confrontato con l'ultimo la lista è ordinata.\n",
        "\n",
        "**N.B. anche se la libreria mette a disposizione il metodo sort() per le liste che ci consentirebbe di non dovere scrivere questo programma, ai fini dell'esercitazione non utilizzeremo il metodo per imparare a programmare.**"
      ],
      "metadata": {
        "id": "omVY2hxUgsXA"
      }
    },
    {
      "cell_type": "markdown",
      "source": [
        "## Esercizio 12\n",
        "**Ordinamento a bolle.** Altrimenti noto come \"bubblesort\", altro algoritmo classico.\n",
        "\n",
        "Il metodo consiste nel confrontare a due a due i valori della lista, da sinistra a destra. Il primo col secondo, il secondo col terzo, il terzo col quarto ecc.\n",
        "\n",
        "Quando il valore a sinistra è maggiore di quello a destra i valori vanno invertiti.\n",
        "\n",
        "L'oridnamento si intende eseguito quando, arrivati all'ultima coppia a destra (penultimo e ultimo) non è stato eseguito nessuno scambio.\n",
        "\n",
        "## Esercizio 12 bis\n",
        "Ottimizziamo l'ordinamento a bolle: quando ci accorgiamo che non abbiamo scambiato nessun elemento tranne gli ultimi due è inutile procedere oltre e fare un intero ciclo senza scambi. Se hai implementato così l'algoritmo puoi migliorare.\n",
        "Raffinando le condizioni di uscita possiamo modificare il nostro codice per essere più elegante ed efficiente e tenere conto che non ho fatto nessuno scambio precedente tranne l'ultima coppia risparmiando un intero ciclo.\n",
        "Se avevi già implementato così l'algoritmo ottimo lavoro."
      ],
      "metadata": {
        "id": "nqGCahGwiHiL"
      }
    }
  ]
}